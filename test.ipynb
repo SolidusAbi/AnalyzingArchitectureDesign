{
 "cells": [
  {
   "cell_type": "code",
   "execution_count": 1,
   "metadata": {},
   "outputs": [],
   "source": [
    "import os, sys\n",
    "project_dir = os.path.join(os.getcwd(),'./')\n",
    "if project_dir not in sys.path:\n",
    "    sys.path.append(project_dir)\n",
    "\n",
    "medmnist_dir = os.path.join(project_dir, 'modules/MedMNIST')\n",
    "if medmnist_dir not in sys.path:\n",
    "    sys.path.append(medmnist_dir)\n",
    "\n",
    "ipdl_dir = os.path.join(project_dir, 'modules/IPDL')\n",
    "if ipdl_dir not in sys.path:\n",
    "    sys.path.append(ipdl_dir)    \n",
    "\n",
    "from matplotlib import pyplot as plt\n",
    "import numpy as np\n",
    "import pandas as pd\n",
    "import torch"
   ]
  },
  {
   "cell_type": "code",
   "execution_count": 3,
   "metadata": {},
   "outputs": [],
   "source": [
    "import medmnist\n",
    "from medmnist import INFO\n",
    "\n",
    "data_flag = 'tissuemnist'\n",
    "download = True\n",
    "\n",
    "info = INFO[data_flag]\n",
    "task = info['task']\n",
    "n_channels = info['n_channels']\n",
    "n_classes = len(info['label'])\n",
    "\n",
    "DataClass = getattr(medmnist, info['python_class'])"
   ]
  },
  {
   "cell_type": "code",
   "execution_count": 5,
   "metadata": {},
   "outputs": [
    {
     "name": "stderr",
     "output_type": "stream",
     "text": [
      "0it [00:00, ?it/s]"
     ]
    },
    {
     "name": "stdout",
     "output_type": "stream",
     "text": [
      "Downloading https://zenodo.org/record/5208230/files/tissuemnist.npz?download=1 to /home/abian/.medmnist/tissuemnist.npz\n"
     ]
    },
    {
     "name": "stderr",
     "output_type": "stream",
     "text": [
      "124968960it [01:40, 2187268.69it/s]                               "
     ]
    }
   ],
   "source": [
    "from torchvision.transforms import Compose, Resize, ToTensor\n",
    "\n",
    "data_transform = Compose([\n",
    "    Resize((64, 64)),\n",
    "    ToTensor(),\n",
    "])\n",
    "\n",
    "train_dataset = DataClass(split='train', transform=data_transform, download=download)\n",
    "eval_dataset = DataClass(split='test', transform=data_transform, download=download)"
   ]
  },
  {
   "cell_type": "code",
   "execution_count": 9,
   "metadata": {},
   "outputs": [],
   "source": [
    "from imblearn.under_sampling import RandomUnderSampler\n",
    "\n",
    "sampling_strategy = {0: 128, 1: 128, 2: 0, 3: 0, 4: 0, 5: 0, 6: 0, 7: 0}\n",
    "\n",
    "x = train_dataset.imgs\n",
    "y = train_dataset.labels\n",
    "\n",
    "# sampling_strategy = sampling_strategies[idx]\n",
    "undersampler = RandomUnderSampler(sampling_strategy=sampling_strategy, random_state=123)\n",
    "X_resampled, y_resampled = undersampler.fit_resample(x.reshape((x.shape[0], -1)), y.flatten())\n",
    "\n",
    "train_dataset.imgs = X_resampled.reshape((-1, x.shape[1], x.shape[2]))\n",
    "train_dataset.labels = y_resampled\n",
    "\n",
    "# train_dataset.labels"
   ]
  },
  {
   "cell_type": "code",
   "execution_count": 10,
   "metadata": {},
   "outputs": [
    {
     "data": {
      "text/plain": [
       "array([0, 1], dtype=uint8)"
      ]
     },
     "execution_count": 10,
     "metadata": {},
     "output_type": "execute_result"
    }
   ],
   "source": [
    "np.unique(train_dataset.labels)"
   ]
  },
  {
   "cell_type": "code",
   "execution_count": null,
   "metadata": {},
   "outputs": [],
   "source": []
  }
 ],
 "metadata": {
  "interpreter": {
   "hash": "490a2d67657ae1827c15c39a575b88ef4d8137379e6c26766dfd5a0c94be6691"
  },
  "kernelspec": {
   "display_name": "Python 3.7.10 64-bit ('ThermalAnalysis': conda)",
   "name": "python3"
  },
  "language_info": {
   "codemirror_mode": {
    "name": "ipython",
    "version": 3
   },
   "file_extension": ".py",
   "mimetype": "text/x-python",
   "name": "python",
   "nbconvert_exporter": "python",
   "pygments_lexer": "ipython3",
   "version": "3.7.10"
  },
  "orig_nbformat": 4
 },
 "nbformat": 4,
 "nbformat_minor": 2
}
