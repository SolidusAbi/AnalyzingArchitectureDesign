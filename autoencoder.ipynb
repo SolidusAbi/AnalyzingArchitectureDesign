{
 "cells": [
  {
   "cell_type": "code",
   "execution_count": null,
   "metadata": {},
   "outputs": [],
   "source": [
    "import os, sys\n",
    "project_dir = os.path.join(os.getcwd(),'./')\n",
    "if project_dir not in sys.path:\n",
    "    sys.path.append(project_dir)\n",
    "\n",
    "medmnist_dir = os.path.join(project_dir, 'modules/MedMNIST')\n",
    "if medmnist_dir not in sys.path:\n",
    "    sys.path.append(medmnist_dir)\n",
    "\n",
    "ipdl_dir = os.path.join(project_dir, 'modules/IPDL')\n",
    "if ipdl_dir not in sys.path:\n",
    "    sys.path.append(ipdl_dir)    \n",
    "\n",
    "from matplotlib import pyplot as plt\n",
    "import numpy as np\n",
    "import pandas as pd\n",
    "import torch"
   ]
  },
  {
   "cell_type": "code",
   "execution_count": null,
   "metadata": {},
   "outputs": [],
   "source": [
    "from experiment.autoencoder import PCAE\n",
    "\n",
    "pcae_exp = PCAE() "
   ]
  },
  {
   "cell_type": "markdown",
   "metadata": {},
   "source": [
    "# Pretrain (FMNIST)"
   ]
  },
  {
   "cell_type": "code",
   "execution_count": null,
   "metadata": {},
   "outputs": [],
   "source": [
    "from torchvision import datasets\n",
    "from torchvision.transforms import Compose, Resize, ToTensor\n",
    "from torch.utils.data import DataLoader\n",
    "\n",
    "transforms = Compose([Resize((64, 64)), ToTensor()])\n",
    "\n",
    "train_set = datasets.FashionMNIST(\"dataset\", train=True, transform=transforms, download=True)\n",
    "test_set = datasets.FashionMNIST(\"dataset\", train=False, transform=transforms, download=True)\n",
    "train_loader = DataLoader(train_set, batch_size=128, shuffle=True)\n",
    "val_loader = DataLoader(test_set, batch_size=128, shuffle=False)"
   ]
  },
  {
   "cell_type": "code",
   "execution_count": null,
   "metadata": {},
   "outputs": [],
   "source": [
    "from torch.utils.tensorboard import SummaryWriter\n",
    "\n",
    "tb_writer = SummaryWriter('logs/{}/AE_FMNIST'.format(pcae_exp.model_name))\n",
    "pcae_exp.train(train_loader, val_loader, tb_writer, n_epoch=250)"
   ]
  },
  {
   "cell_type": "markdown",
   "metadata": {},
   "source": [
    "## Save results"
   ]
  },
  {
   "cell_type": "markdown",
   "metadata": {},
   "source": [
    "### MI Estimation"
   ]
  },
  {
   "cell_type": "code",
   "execution_count": null,
   "metadata": {},
   "outputs": [],
   "source": [
    "df = pcae_exp.ip.to_df()\n",
    "df.to_pickle('data/PCAE/MI/AE_FMNIST.pkl')"
   ]
  },
  {
   "cell_type": "markdown",
   "metadata": {},
   "source": [
    "### Model state dict"
   ]
  },
  {
   "cell_type": "code",
   "execution_count": null,
   "metadata": {},
   "outputs": [],
   "source": [
    "\n",
    "torch.save(pcae_exp.model.state_dict(), 'data/PCAE/weights/AE/FMNIST.pt')"
   ]
  },
  {
   "cell_type": "markdown",
   "metadata": {},
   "source": [
    "# Fitting phase\n",
    "\n",
    "Usando la base de datos del MedMNIST"
   ]
  },
  {
   "cell_type": "code",
   "execution_count": null,
   "metadata": {},
   "outputs": [],
   "source": [
    "import medmnist\n",
    "from medmnist import INFO\n",
    "\n",
    "# data_flag = 'breastmnist'\n",
    "data_flag = 'tissuemnist'\n",
    "download = True\n",
    "\n",
    "info = INFO[data_flag]\n",
    "task = info['task']\n",
    "n_channels = info['n_channels']\n",
    "n_classes = len(info['label'])\n",
    "\n",
    "DataClass = getattr(medmnist, info['python_class'])"
   ]
  },
  {
   "cell_type": "code",
   "execution_count": null,
   "metadata": {},
   "outputs": [],
   "source": [
    "from torchvision.transforms import Compose, Resize, ToTensor\n",
    "\n",
    "data_transform = Compose([\n",
    "    Resize((64, 64)),\n",
    "    ToTensor(),\n",
    "])\n",
    "\n",
    "train_dataset = DataClass(split='train', transform=data_transform, download=download)\n",
    "eval_dataset = DataClass(split='test', transform=data_transform, download=download)\n",
    "test_dataset = DataClass(split='test', transform=data_transform, download=download)"
   ]
  },
  {
   "cell_type": "code",
   "execution_count": null,
   "metadata": {},
   "outputs": [],
   "source": [
    "128/8"
   ]
  },
  {
   "cell_type": "markdown",
   "metadata": {},
   "source": [
    "## Reduce dataset"
   ]
  },
  {
   "cell_type": "code",
   "execution_count": null,
   "metadata": {},
   "outputs": [],
   "source": [
    "from imblearn.under_sampling import RandomUnderSampler\n",
    "\n",
    "# sampling_strategies = [{0: 128, 1: 128}, {0: 16, 1: 16}] # Breast dataset\n",
    "sampling_strategies = [ # Tissue Dataset\n",
    "        {0: 1024, 1: 1024, 2: 1024, 3: 1024, 4: 1024, 5: 1024, 6: 1024, 7: 1024},\n",
    "        {0: 16, 1: 16, 2: 16, 3: 16, 4: 16, 5: 16, 6: 16, 7: 16}\n",
    "    ] \n",
    "\n",
    "datasets = [train_dataset, eval_dataset]\n",
    "\n",
    "for idx, dataset in enumerate(datasets):\n",
    "    x = dataset.imgs\n",
    "    y = dataset.labels\n",
    "\n",
    "    sampling_strategy = sampling_strategies[idx]\n",
    "    undersampler = RandomUnderSampler(sampling_strategy=sampling_strategy, random_state=123)\n",
    "    X_resampled, y_resampled = undersampler.fit_resample(x.reshape((x.shape[0], -1)), y.flatten())\n",
    "\n",
    "    dataset.imgs = X_resampled.reshape((-1, x.shape[1], x.shape[2]))\n",
    "    dataset.labels = y_resampled.reshape((-1, y.shape[1]))"
   ]
  },
  {
   "cell_type": "code",
   "execution_count": null,
   "metadata": {},
   "outputs": [],
   "source": [
    "print('Train Dataset: {} samples'.format(len(train_dataset)))\n",
    "print('Eval Dataset: {} samples'.format(len(eval_dataset)))"
   ]
  },
  {
   "cell_type": "markdown",
   "metadata": {},
   "source": [
    "## Training"
   ]
  },
  {
   "cell_type": "code",
   "execution_count": null,
   "metadata": {},
   "outputs": [],
   "source": [
    "pcae_exp.load_model(os.path.join(project_dir, 'data/PCAE/weights/AE/FMNIST.pt'))"
   ]
  },
  {
   "cell_type": "code",
   "execution_count": null,
   "metadata": {},
   "outputs": [],
   "source": [
    "from torch.utils.tensorboard import SummaryWriter\n",
    "from torch.utils.data import DataLoader\n",
    "\n",
    "train_loader = DataLoader(dataset=train_dataset, batch_size=64, shuffle=True)\n",
    "eval_loader = DataLoader(dataset=eval_dataset, batch_size=128, shuffle=False)\n",
    "\n",
    "tb_writer = SummaryWriter('logs/{}/AE_TISSUE'.format(pcae_exp.model_name))\n",
    "pcae_exp.train(train_loader, eval_loader, tb_writer, n_epoch=500)"
   ]
  },
  {
   "cell_type": "markdown",
   "metadata": {},
   "source": [
    "## Save results"
   ]
  },
  {
   "cell_type": "markdown",
   "metadata": {},
   "source": [
    "### MI Estimation"
   ]
  },
  {
   "cell_type": "code",
   "execution_count": null,
   "metadata": {},
   "outputs": [],
   "source": [
    "df = pcae_exp.ip.to_df()\n",
    "df.to_pickle('data/PCAE/MI/AE_TISSUE.pkl')"
   ]
  },
  {
   "cell_type": "markdown",
   "metadata": {},
   "source": [
    "### Model state dict"
   ]
  },
  {
   "cell_type": "code",
   "execution_count": null,
   "metadata": {},
   "outputs": [],
   "source": [
    "torch.save(pcae_exp.model.state_dict(), 'data/PCAE/weights/AE/TISSUE.pt')"
   ]
  },
  {
   "cell_type": "markdown",
   "metadata": {},
   "source": []
  }
 ],
 "metadata": {
  "interpreter": {
   "hash": "490a2d67657ae1827c15c39a575b88ef4d8137379e6c26766dfd5a0c94be6691"
  },
  "kernelspec": {
   "display_name": "Python 3.7.10 64-bit ('ThermalAnalysis': conda)",
   "name": "python3"
  },
  "language_info": {
   "codemirror_mode": {
    "name": "ipython",
    "version": 3
   },
   "file_extension": ".py",
   "mimetype": "text/x-python",
   "name": "python",
   "nbconvert_exporter": "python",
   "pygments_lexer": "ipython3",
   "version": "3.7.10"
  },
  "orig_nbformat": 4
 },
 "nbformat": 4,
 "nbformat_minor": 2
}
