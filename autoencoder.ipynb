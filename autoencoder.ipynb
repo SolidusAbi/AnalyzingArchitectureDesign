{
 "cells": [
  {
   "cell_type": "code",
   "execution_count": 1,
   "metadata": {},
   "outputs": [],
   "source": [
    "import os, sys\n",
    "project_dir = os.path.join(os.getcwd(),'./')\n",
    "if project_dir not in sys.path:\n",
    "    sys.path.append(project_dir)\n",
    "\n",
    "medmnist_dir = os.path.join(project_dir, 'modules/MedMNIST')\n",
    "if medmnist_dir not in sys.path:\n",
    "    sys.path.append(medmnist_dir)\n",
    "\n",
    "ipdl_dir = os.path.join(project_dir, 'modules/IPDL')\n",
    "if ipdl_dir not in sys.path:\n",
    "    sys.path.append(ipdl_dir)    \n",
    "\n",
    "from matplotlib import pyplot as plt\n",
    "import numpy as np\n",
    "import pandas as pd"
   ]
  },
  {
   "cell_type": "code",
   "execution_count": 2,
   "metadata": {},
   "outputs": [],
   "source": [
    "from experiment.autoencoder import PCAE\n",
    "\n",
    "pcae_exp = PCAE() "
   ]
  },
  {
   "cell_type": "markdown",
   "metadata": {},
   "source": [
    "# Pretrain (FMNIST)"
   ]
  },
  {
   "cell_type": "code",
   "execution_count": 3,
   "metadata": {},
   "outputs": [],
   "source": [
    "from torchvision import datasets\n",
    "from torchvision.transforms import Compose, Resize, ToTensor\n",
    "from torch.utils.data import DataLoader\n",
    "\n",
    "transforms = Compose([Resize((64, 64)), ToTensor()])\n",
    "\n",
    "train_set = datasets.FashionMNIST(\"dataset\", train=True, transform=transforms, download=True)\n",
    "test_set = datasets.FashionMNIST(\"dataset\", train=False, transform=transforms, download=True)\n",
    "train_loader = DataLoader(train_set, batch_size=128, shuffle=True)\n",
    "val_loader = DataLoader(test_set, batch_size=128, shuffle=False)"
   ]
  },
  {
   "cell_type": "code",
   "execution_count": 4,
   "metadata": {},
   "outputs": [
    {
     "name": "stderr",
     "output_type": "stream",
     "text": [
      "100%|██████████| 250/250 [46:25<00:00, 11.14s/epoch, model=PCAE, tls=0.0012, vls=0.0012]\n"
     ]
    }
   ],
   "source": [
    "from torch.utils.tensorboard import SummaryWriter\n",
    "\n",
    "tb_writer = SummaryWriter('logs/{}/AE_FMNIST'.format(pcae_exp.model_name))\n",
    "pcae_exp.train(train_loader, val_loader, tb_writer, n_epoch=250)"
   ]
  },
  {
   "cell_type": "code",
   "execution_count": 7,
   "metadata": {},
   "outputs": [],
   "source": [
    "df = pcae_exp.ip.to_df()\n",
    "df.to_pickle('data/PCAE/MI/AE_FMNIST.pkl')"
   ]
  },
  {
   "cell_type": "code",
   "execution_count": 10,
   "metadata": {},
   "outputs": [],
   "source": [
    "import torch\n",
    "torch.save(pcae_exp.model.state_dict(), 'data/PCAE/weights/AE/FMNIST.pt')"
   ]
  },
  {
   "cell_type": "code",
   "execution_count": 8,
   "metadata": {},
   "outputs": [
    {
     "data": {
      "text/html": [
       "<div>\n",
       "<style scoped>\n",
       "    .dataframe tbody tr th:only-of-type {\n",
       "        vertical-align: middle;\n",
       "    }\n",
       "\n",
       "    .dataframe tbody tr th {\n",
       "        vertical-align: top;\n",
       "    }\n",
       "\n",
       "    .dataframe thead tr th {\n",
       "        text-align: left;\n",
       "    }\n",
       "</style>\n",
       "<table border=\"1\" class=\"dataframe\">\n",
       "  <thead>\n",
       "    <tr>\n",
       "      <th></th>\n",
       "      <th colspan=\"2\" halign=\"left\">Layer 1</th>\n",
       "      <th colspan=\"2\" halign=\"left\">Layer 2</th>\n",
       "      <th colspan=\"2\" halign=\"left\">Layer 3</th>\n",
       "      <th colspan=\"2\" halign=\"left\">Layer 4</th>\n",
       "      <th colspan=\"2\" halign=\"left\">Layer 5</th>\n",
       "    </tr>\n",
       "    <tr>\n",
       "      <th></th>\n",
       "      <th>Ixt</th>\n",
       "      <th>Ity</th>\n",
       "      <th>Ixt</th>\n",
       "      <th>Ity</th>\n",
       "      <th>Ixt</th>\n",
       "      <th>Ity</th>\n",
       "      <th>Ixt</th>\n",
       "      <th>Ity</th>\n",
       "      <th>Ixt</th>\n",
       "      <th>Ity</th>\n",
       "    </tr>\n",
       "  </thead>\n",
       "  <tbody>\n",
       "    <tr>\n",
       "      <th>0</th>\n",
       "      <td>6.229723</td>\n",
       "      <td>0.000039</td>\n",
       "      <td>0.607034</td>\n",
       "      <td>0.000039</td>\n",
       "      <td>0.011361</td>\n",
       "      <td>0.000039</td>\n",
       "      <td>0.000515</td>\n",
       "      <td>0.000039</td>\n",
       "      <td>0.000072</td>\n",
       "      <td>0.000039</td>\n",
       "    </tr>\n",
       "    <tr>\n",
       "      <th>1</th>\n",
       "      <td>6.991510</td>\n",
       "      <td>6.937258</td>\n",
       "      <td>6.942041</td>\n",
       "      <td>6.896255</td>\n",
       "      <td>6.626875</td>\n",
       "      <td>6.599549</td>\n",
       "      <td>6.938232</td>\n",
       "      <td>6.897676</td>\n",
       "      <td>6.991201</td>\n",
       "      <td>6.939475</td>\n",
       "    </tr>\n",
       "    <tr>\n",
       "      <th>2</th>\n",
       "      <td>6.990592</td>\n",
       "      <td>6.987859</td>\n",
       "      <td>6.903050</td>\n",
       "      <td>6.900978</td>\n",
       "      <td>6.145448</td>\n",
       "      <td>6.144490</td>\n",
       "      <td>6.890813</td>\n",
       "      <td>6.888764</td>\n",
       "      <td>6.997214</td>\n",
       "      <td>6.994377</td>\n",
       "    </tr>\n",
       "    <tr>\n",
       "      <th>3</th>\n",
       "      <td>6.992561</td>\n",
       "      <td>6.991616</td>\n",
       "      <td>6.909446</td>\n",
       "      <td>6.908758</td>\n",
       "      <td>6.259130</td>\n",
       "      <td>6.258812</td>\n",
       "      <td>6.872007</td>\n",
       "      <td>6.871360</td>\n",
       "      <td>6.997864</td>\n",
       "      <td>6.996881</td>\n",
       "    </tr>\n",
       "    <tr>\n",
       "      <th>4</th>\n",
       "      <td>6.993776</td>\n",
       "      <td>6.993389</td>\n",
       "      <td>6.903475</td>\n",
       "      <td>6.903201</td>\n",
       "      <td>6.244779</td>\n",
       "      <td>6.244645</td>\n",
       "      <td>6.828091</td>\n",
       "      <td>6.827849</td>\n",
       "      <td>6.998289</td>\n",
       "      <td>6.997890</td>\n",
       "    </tr>\n",
       "    <tr>\n",
       "      <th>...</th>\n",
       "      <td>...</td>\n",
       "      <td>...</td>\n",
       "      <td>...</td>\n",
       "      <td>...</td>\n",
       "      <td>...</td>\n",
       "      <td>...</td>\n",
       "      <td>...</td>\n",
       "      <td>...</td>\n",
       "      <td>...</td>\n",
       "      <td>...</td>\n",
       "    </tr>\n",
       "    <tr>\n",
       "      <th>245</th>\n",
       "      <td>6.996223</td>\n",
       "      <td>6.996218</td>\n",
       "      <td>6.842934</td>\n",
       "      <td>6.842930</td>\n",
       "      <td>5.459518</td>\n",
       "      <td>5.459517</td>\n",
       "      <td>6.302378</td>\n",
       "      <td>6.302378</td>\n",
       "      <td>6.990791</td>\n",
       "      <td>6.990786</td>\n",
       "    </tr>\n",
       "    <tr>\n",
       "      <th>246</th>\n",
       "      <td>6.996228</td>\n",
       "      <td>6.996223</td>\n",
       "      <td>6.843458</td>\n",
       "      <td>6.843455</td>\n",
       "      <td>5.467689</td>\n",
       "      <td>5.467688</td>\n",
       "      <td>6.310882</td>\n",
       "      <td>6.310881</td>\n",
       "      <td>6.991001</td>\n",
       "      <td>6.990997</td>\n",
       "    </tr>\n",
       "    <tr>\n",
       "      <th>247</th>\n",
       "      <td>6.996224</td>\n",
       "      <td>6.996218</td>\n",
       "      <td>6.843156</td>\n",
       "      <td>6.843153</td>\n",
       "      <td>5.465965</td>\n",
       "      <td>5.465964</td>\n",
       "      <td>6.307345</td>\n",
       "      <td>6.307343</td>\n",
       "      <td>6.990913</td>\n",
       "      <td>6.990908</td>\n",
       "    </tr>\n",
       "    <tr>\n",
       "      <th>248</th>\n",
       "      <td>6.996221</td>\n",
       "      <td>6.996216</td>\n",
       "      <td>6.842608</td>\n",
       "      <td>6.842606</td>\n",
       "      <td>5.466276</td>\n",
       "      <td>5.466275</td>\n",
       "      <td>6.311301</td>\n",
       "      <td>6.311299</td>\n",
       "      <td>6.991041</td>\n",
       "      <td>6.991035</td>\n",
       "    </tr>\n",
       "    <tr>\n",
       "      <th>249</th>\n",
       "      <td>6.996222</td>\n",
       "      <td>6.996215</td>\n",
       "      <td>6.841994</td>\n",
       "      <td>6.841990</td>\n",
       "      <td>5.464746</td>\n",
       "      <td>5.464744</td>\n",
       "      <td>6.306072</td>\n",
       "      <td>6.306070</td>\n",
       "      <td>6.990851</td>\n",
       "      <td>6.990844</td>\n",
       "    </tr>\n",
       "  </tbody>\n",
       "</table>\n",
       "<p>250 rows × 10 columns</p>\n",
       "</div>"
      ],
      "text/plain": [
       "      Layer 1             Layer 2             Layer 3             Layer 4  \\\n",
       "          Ixt       Ity       Ixt       Ity       Ixt       Ity       Ixt   \n",
       "0    6.229723  0.000039  0.607034  0.000039  0.011361  0.000039  0.000515   \n",
       "1    6.991510  6.937258  6.942041  6.896255  6.626875  6.599549  6.938232   \n",
       "2    6.990592  6.987859  6.903050  6.900978  6.145448  6.144490  6.890813   \n",
       "3    6.992561  6.991616  6.909446  6.908758  6.259130  6.258812  6.872007   \n",
       "4    6.993776  6.993389  6.903475  6.903201  6.244779  6.244645  6.828091   \n",
       "..        ...       ...       ...       ...       ...       ...       ...   \n",
       "245  6.996223  6.996218  6.842934  6.842930  5.459518  5.459517  6.302378   \n",
       "246  6.996228  6.996223  6.843458  6.843455  5.467689  5.467688  6.310882   \n",
       "247  6.996224  6.996218  6.843156  6.843153  5.465965  5.465964  6.307345   \n",
       "248  6.996221  6.996216  6.842608  6.842606  5.466276  5.466275  6.311301   \n",
       "249  6.996222  6.996215  6.841994  6.841990  5.464746  5.464744  6.306072   \n",
       "\n",
       "                Layer 5            \n",
       "          Ity       Ixt       Ity  \n",
       "0    0.000039  0.000072  0.000039  \n",
       "1    6.897676  6.991201  6.939475  \n",
       "2    6.888764  6.997214  6.994377  \n",
       "3    6.871360  6.997864  6.996881  \n",
       "4    6.827849  6.998289  6.997890  \n",
       "..        ...       ...       ...  \n",
       "245  6.302378  6.990791  6.990786  \n",
       "246  6.310881  6.991001  6.990997  \n",
       "247  6.307343  6.990913  6.990908  \n",
       "248  6.311299  6.991041  6.991035  \n",
       "249  6.306070  6.990851  6.990844  \n",
       "\n",
       "[250 rows x 10 columns]"
      ]
     },
     "execution_count": 8,
     "metadata": {},
     "output_type": "execute_result"
    }
   ],
   "source": [
    "test = pd.read_pickle('data/PCAE/MI/AE_FMNIST.pkl')\n",
    "test"
   ]
  },
  {
   "cell_type": "markdown",
   "metadata": {},
   "source": []
  },
  {
   "cell_type": "markdown",
   "metadata": {},
   "source": []
  },
  {
   "cell_type": "markdown",
   "metadata": {},
   "source": []
  },
  {
   "cell_type": "markdown",
   "metadata": {},
   "source": []
  },
  {
   "cell_type": "markdown",
   "metadata": {},
   "source": []
  },
  {
   "cell_type": "markdown",
   "metadata": {},
   "source": []
  },
  {
   "cell_type": "code",
   "execution_count": null,
   "metadata": {},
   "outputs": [],
   "source": [
    "import medmnist  \n",
    "from medmnist import INFO\n",
    "\n",
    "data_flag = 'breastmnist'\n",
    "download = True\n",
    "\n",
    "NUM_EPOCHS = 3\n",
    "BATCH_SIZE = 128\n",
    "lr = 0.001\n",
    "\n",
    "info = INFO[data_flag]\n",
    "task = info['task']\n",
    "n_channels = info['n_channels']\n",
    "n_classes = len(info['label'])\n",
    "\n",
    "DataClass = getattr(medmnist, info['python_class'])"
   ]
  },
  {
   "cell_type": "code",
   "execution_count": null,
   "metadata": {},
   "outputs": [],
   "source": [
    "import torchvision.transforms as transforms\n",
    "\n",
    "data_transform = transforms.Compose([\n",
    "    transforms.Resize((64, 64)), \n",
    "    transforms.ToTensor(),\n",
    "    # transforms.Normalize(mean=[.5], std=[.5])\n",
    "])\n",
    "\n",
    "train_dataset = DataClass(split='train', transform=data_transform, download=download)\n",
    "eval_dataset = DataClass(split='test', transform=data_transform, download=download)\n",
    "test_dataset = DataClass(split='test', transform=data_transform, download=download)\n"
   ]
  },
  {
   "cell_type": "markdown",
   "metadata": {},
   "source": [
    "## Reduce Train dataset"
   ]
  },
  {
   "cell_type": "code",
   "execution_count": null,
   "metadata": {},
   "outputs": [],
   "source": [
    "from imblearn.under_sampling import RandomUnderSampler\n",
    "\n",
    "x = train_dataset.imgs\n",
    "y = train_dataset.labels\n",
    "\n",
    "sampling_strategies = {0: 128, 1: 128}\n",
    "undersampler = RandomUnderSampler(sampling_strategy=sampling_strategies, random_state=123)\n",
    "X_resampled, y_resampled = undersampler.fit_resample(x.reshape((x.shape[0], -1)), y.flatten())\n",
    "\n",
    "train_dataset.imgs = X_resampled.reshape((-1,x.shape[1],x.shape[2]))\n",
    "train_dataset.labels = y_resampled.reshape((-1, y.shape[1]))"
   ]
  },
  {
   "cell_type": "code",
   "execution_count": null,
   "metadata": {},
   "outputs": [],
   "source": [
    "print(len(train_dataset))"
   ]
  },
  {
   "cell_type": "markdown",
   "metadata": {},
   "source": [
    "### Reduce validation dataset"
   ]
  },
  {
   "cell_type": "code",
   "execution_count": null,
   "metadata": {},
   "outputs": [],
   "source": [
    "x = eval_dataset.imgs\n",
    "y = eval_dataset.labels\n",
    "\n",
    "sampling_strategies = {0: 16, 1: 16}\n",
    "undersampler = RandomUnderSampler(sampling_strategy=sampling_strategies, random_state=123)\n",
    "X_resampled, y_resampled = undersampler.fit_resample(x.reshape((x.shape[0], -1)), y.flatten())\n",
    "\n",
    "eval_dataset.imgs = X_resampled.reshape((-1,x.shape[1],x.shape[2]))\n",
    "eval_dataset.labels = y_resampled.reshape((-1, y.shape[1]))"
   ]
  },
  {
   "cell_type": "code",
   "execution_count": null,
   "metadata": {},
   "outputs": [],
   "source": [
    "train_loader = DataLoader(dataset=train_dataset, batch_size=32, shuffle=True)\n",
    "eval_loader = DataLoader(dataset=eval_dataset, batch_size=32, shuffle=True)\n",
    "\n",
    "from torch.utils.tensorboard import SummaryWriter\n",
    "\n",
    "tb_writer = SummaryWriter('log/PCAE')\n",
    "\n",
    "exp.train(train_loader, eval_loader, tb_writer=tb_writer)"
   ]
  },
  {
   "cell_type": "code",
   "execution_count": null,
   "metadata": {},
   "outputs": [],
   "source": [
    "x, y = next(iter(train_loader))\n",
    "\n",
    "model = exp.model\n",
    "model.encode(x.to(exp.device)).shape"
   ]
  },
  {
   "cell_type": "code",
   "execution_count": null,
   "metadata": {},
   "outputs": [],
   "source": [
    "print(len(eval_dataset))"
   ]
  },
  {
   "cell_type": "code",
   "execution_count": null,
   "metadata": {},
   "outputs": [],
   "source": [
    "print(len(test_dataset))"
   ]
  },
  {
   "cell_type": "code",
   "execution_count": null,
   "metadata": {},
   "outputs": [],
   "source": [
    "x.reshape((x.shape[0], -1)).shape"
   ]
  },
  {
   "cell_type": "code",
   "execution_count": null,
   "metadata": {},
   "outputs": [],
   "source": [
    "x.to_numpy()"
   ]
  },
  {
   "cell_type": "code",
   "execution_count": null,
   "metadata": {},
   "outputs": [],
   "source": [
    "from imblearn.under_sampling import RandomUnderSampler\n",
    "\n",
    "sampling_strategies = {0: 128, 1: 128}\n",
    "undersampler = RandomUnderSampler(sampling_strategy=sampling_strategies, random_state=123)\n",
    "X_resampled, y_resampled = undersampler.fit_resample(x.reshape((x.shape[0], -1)), y.flatten())"
   ]
  },
  {
   "cell_type": "code",
   "execution_count": null,
   "metadata": {},
   "outputs": [],
   "source": [
    "train_dataset.imgs = X_resampled.reshape((-1,x.shape[1],x.shape[2]))\n",
    "train_dataset.labels = y_resampled.reshape((-1, y.shape[1]))"
   ]
  },
  {
   "cell_type": "code",
   "execution_count": null,
   "metadata": {},
   "outputs": [],
   "source": [
    "train_dataset"
   ]
  },
  {
   "cell_type": "code",
   "execution_count": null,
   "metadata": {},
   "outputs": [],
   "source": [
    "train_dataset.imgs.shape"
   ]
  },
  {
   "cell_type": "code",
   "execution_count": null,
   "metadata": {},
   "outputs": [],
   "source": [
    "from torch.utils.data import DataLoader\n",
    "train_loader = DataLoader(dataset=train_dataset, batch_size=BATCH_SIZE, shuffle=True)\n",
    "for i, n in train_loader:\n",
    "    print(n.shape)"
   ]
  },
  {
   "cell_type": "code",
   "execution_count": null,
   "metadata": {},
   "outputs": [],
   "source": [
    "122 + 45 + 74"
   ]
  },
  {
   "cell_type": "code",
   "execution_count": null,
   "metadata": {},
   "outputs": [],
   "source": [
    "train_dataset"
   ]
  },
  {
   "cell_type": "code",
   "execution_count": null,
   "metadata": {},
   "outputs": [],
   "source": []
  }
 ],
 "metadata": {
  "interpreter": {
   "hash": "490a2d67657ae1827c15c39a575b88ef4d8137379e6c26766dfd5a0c94be6691"
  },
  "kernelspec": {
   "display_name": "Python 3.7.10 64-bit ('ThermalAnalysis': conda)",
   "name": "python3"
  },
  "language_info": {
   "codemirror_mode": {
    "name": "ipython",
    "version": 3
   },
   "file_extension": ".py",
   "mimetype": "text/x-python",
   "name": "python",
   "nbconvert_exporter": "python",
   "pygments_lexer": "ipython3",
   "version": "3.7.10"
  },
  "orig_nbformat": 4
 },
 "nbformat": 4,
 "nbformat_minor": 2
}
